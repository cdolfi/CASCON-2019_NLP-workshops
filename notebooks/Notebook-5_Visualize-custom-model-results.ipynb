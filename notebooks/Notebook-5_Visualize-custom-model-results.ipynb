{
 "cells": [
  {
   "cell_type": "markdown",
   "metadata": {},
   "source": [
    "# Visualizing NLU analysis of customer messages\n",
    "\n",
    "## Default models vs. custom model\n",
    "\n",
    "This notebook demonstrates visualizing the results from analyzing customer messages using Watson Natural Language Understanding.\n",
    "\n",
    "Results from using the default NLU models are compared with results from using a custom language model.\n",
    "\n",
    "- Import saved analysis results\n",
    "- Example: Bar charts"
   ]
  },
  {
   "cell_type": "code",
   "execution_count": null,
   "metadata": {},
   "outputs": [],
   "source": []
  },
  {
   "cell_type": "markdown",
   "metadata": {},
   "source": [
    "## Import saved analysis results\n",
    "\n",
    "In the [Exploring NLU](https://github.com/spackows/CASCON-2019_NLP-workshops/blob/master/notebooks/Notebook-1_Exploring-NLU.ipynb) notebook, we saved NLU results in a JSON file as a Project Asset.\n",
    "\n",
    "In the [Normalizing custom model results](https://github.com/spackows/CASCON-2019_NLP-workshops/blob/master/notebooks/Notebook-4_Normalize-custom-model-results.ipynb) notebook, we saved normalized custom language results in a JSON file as a Project Asset too.\n",
    "\n",
    "To import the saved data into this notebook, perform these steps for each asset:\n",
    "1. Open the data panel by clicking on the **Find and Add Data** icon ( <img style=\"margin: 0px; padding: 0px; display: inline;\" src=\"https://github.com/spackows/CASCON-2019_NLP-workshops/raw/master/images/find-add-data-icon.png\"/> )\n",
    "2. Click on the first empty cell below\n",
    "3. In the data panel, under the file named <code>NLU-results.json</code> click **Insert to code** and then select \"Insert Credentials\"\n",
    "4. Click on the second empty cell below\n",
    "5. In the data panel, under the file named <code>NLU-results-custom-model-normalized.json</code> click **Insert to code** and then select \"Insert Credentials\""
   ]
  },
  {
   "cell_type": "code",
   "execution_count": 1,
   "metadata": {},
   "outputs": [],
   "source": []
  },
  {
   "cell_type": "code",
   "execution_count": 2,
   "metadata": {},
   "outputs": [],
   "source": []
  },
  {
   "cell_type": "code",
   "execution_count": 4,
   "metadata": {},
   "outputs": [],
   "source": [
    "# Define a helper function for copying files from  \n",
    "# Project storage to the notebook working directory\n",
    "#\n",
    "\n",
    "from ibm_botocore.client import Config\n",
    "import ibm_boto3\n",
    "\n",
    "def copyToNotebookDir( credentials ):\n",
    "    cos = ibm_boto3.client(\n",
    "        service_name='s3',\n",
    "        ibm_api_key_id=credentials['IBM_API_KEY_ID'],\n",
    "        ibm_service_instance_id=credentials['IAM_SERVICE_ID'],\n",
    "        ibm_auth_endpoint=credentials['IBM_AUTH_ENDPOINT'],\n",
    "        config=Config(signature_version='oauth'),\n",
    "        endpoint_url=credentials['ENDPOINT'])\n",
    "    cos.download_file(Bucket=credentials['BUCKET'],Key=credentials['FILE'],Filename=credentials['FILE'])\n",
    "    print( \"Done: '\" + credentials['FILE'] + \"'\" )"
   ]
  },
  {
   "cell_type": "code",
   "execution_count": 5,
   "metadata": {},
   "outputs": [
    {
     "name": "stdout",
     "output_type": "stream",
     "text": [
      "Done: 'NLU-results.json'\n",
      "Done: 'NLU-results-custom-model-normalized.json'\n"
     ]
    }
   ],
   "source": [
    "copyToNotebookDir( credentials_1 )\n",
    "copyToNotebookDir( credentials_2 )"
   ]
  },
  {
   "cell_type": "code",
   "execution_count": 6,
   "metadata": {},
   "outputs": [
    {
     "data": {
      "text/plain": [
       "[{'header': '-------------------------------------------------------------',\n",
       "  'message': 'Good morning can you help me upload a shapefile?',\n",
       "  'actions': ['help'],\n",
       "  'keywords': ['Good morning', 'shapefile'],\n",
       "  'spacer': ''},\n",
       " {'header': '-------------------------------------------------------------',\n",
       "  'message': 'Good night where to place my file to import it into notebook?',\n",
       "  'actions': ['to place', 'to import'],\n",
       "  'keywords': ['Good night', 'file', 'notebook'],\n",
       "  'spacer': ''},\n",
       " {'header': '-------------------------------------------------------------',\n",
       "  'message': 'hai how can i do analyze with csv file is there any tutorial on it',\n",
       "  'actions': ['do', 'be'],\n",
       "  'keywords': ['csv file', 'hai', 'tutorial'],\n",
       "  'spacer': ''}]"
      ]
     },
     "execution_count": 6,
     "metadata": {},
     "output_type": "execute_result"
    }
   ],
   "source": [
    "import json\n",
    "with open( credentials_1['FILE'] ) as json_file:\n",
    "    default_results_list = json.load(json_file)\n",
    "default_results_list[0:3]"
   ]
  },
  {
   "cell_type": "code",
   "execution_count": 7,
   "metadata": {},
   "outputs": [
    {
     "data": {
      "text/plain": [
       "[{'header': '-------------------------------------------------------------',\n",
       "  'message': 'Good morning can you help me upload a shapefile?',\n",
       "  'actions': ['load'],\n",
       "  'objects': ['shapefile'],\n",
       "  'tech': [],\n",
       "  'docs': [],\n",
       "  'persona': [],\n",
       "  'spacer': ''},\n",
       " {'header': '-------------------------------------------------------------',\n",
       "  'message': 'Good night where to place my file to import it into notebook?',\n",
       "  'actions': ['import'],\n",
       "  'objects': ['notebook'],\n",
       "  'tech': [],\n",
       "  'docs': [],\n",
       "  'persona': [],\n",
       "  'spacer': ''},\n",
       " {'header': '-------------------------------------------------------------',\n",
       "  'message': 'hai how can i do analyze with csv file is there any tutorial on it',\n",
       "  'actions': ['analyze'],\n",
       "  'objects': [],\n",
       "  'tech': [],\n",
       "  'docs': ['tutorial'],\n",
       "  'persona': [],\n",
       "  'spacer': ''}]"
      ]
     },
     "execution_count": 7,
     "metadata": {},
     "output_type": "execute_result"
    }
   ],
   "source": [
    "with open( credentials_2['FILE'] ) as json_file:\n",
    "    custom_results_list = json.load(json_file)\n",
    "custom_results_list[0:3]"
   ]
  },
  {
   "cell_type": "code",
   "execution_count": null,
   "metadata": {},
   "outputs": [],
   "source": []
  },
  {
   "cell_type": "markdown",
   "metadata": {},
   "source": [
    "## Example: Bar charts\n",
    "\n",
    "Count the important words, and then plot bar charts to show the most common words."
   ]
  },
  {
   "cell_type": "code",
   "execution_count": 14,
   "metadata": {},
   "outputs": [],
   "source": [
    "# Define a helper function for counting words\n",
    "#\n",
    "from collections import OrderedDict\n",
    "def countWords( results_list, entity_type, minimum ):\n",
    "    all_words = {}\n",
    "    for result in results_list:\n",
    "        words_arr = result[entity_type]\n",
    "        for word in words_arr:\n",
    "            if( word not in all_words ):\n",
    "                all_words[word] = 0\n",
    "            all_words[word] += 1\n",
    "    common_words = dict( [ (k,v) for k,v in all_words.items() if v > minimum ] )\n",
    "    ordered_common_words = OrderedDict( sorted( common_words.items(), key=lambda x:x[1], reverse=True ) )\n",
    "    return ordered_common_words"
   ]
  },
  {
   "cell_type": "code",
   "execution_count": 15,
   "metadata": {},
   "outputs": [],
   "source": [
    "# Count the words\n",
    "#\n",
    "default_actions  = countWords( default_results_list, \"actions\",  3 )\n",
    "default_keywords = countWords( default_results_list, \"keywords\", 3 )\n",
    "custom_actions   = countWords( custom_results_list,  \"actions\",  2 )\n",
    "custom_objects   = countWords( custom_results_list,  \"objects\",  1 )\n",
    "custom_tech      = countWords( custom_results_list,  \"tech\",     1 )"
   ]
  },
  {
   "cell_type": "code",
   "execution_count": 16,
   "metadata": {},
   "outputs": [],
   "source": [
    "# Create some structures to make it easier to plot the charts\n",
    "#\n",
    "import random\n",
    "from matplotlib import colors as mcolors\n",
    "import numpy as np\n",
    "\n",
    "def random_colours( num ):\n",
    "    rand_indexes = random.sample(range(0, len( mcolors.CSS4_COLORS.keys() ) - 1 ), num )\n",
    "    colour_list = [ list( mcolors.CSS4_COLORS.keys() )[i] for i in rand_indexes ]\n",
    "    return colour_list\n",
    "\n",
    "values_default_action      = list( default_actions.values() )[0:6]\n",
    "labels_default_action      = list( default_actions.keys() )[0:6]\n",
    "num_bars_default_action    = len( labels_default_action )\n",
    "positions_default_action   = np.arange( num_bars_default_action )\n",
    "colours_default_action     = random_colours( num_bars_default_action )\n",
    "\n",
    "values_default_keywords    = list( default_keywords.values() )[0:6]\n",
    "labels_default_keywords    = list( default_keywords.keys() )[0:6]\n",
    "num_bars_default_keywords  = len( labels_default_keywords )\n",
    "positions_default_keywords = np.arange( num_bars_default_keywords )\n",
    "colours_default_keywords   = random_colours( num_bars_default_keywords )\n",
    "\n",
    "values_custom_action       = list( custom_actions.values() )[0:6]\n",
    "labels_custom_action       = list( custom_actions.keys() )[0:6]\n",
    "num_bars_custom_action     = len( labels_custom_action )\n",
    "positions_custom_action    = np.arange( num_bars_custom_action )\n",
    "colours_custom_action      = random_colours( num_bars_custom_action )\n",
    "\n",
    "values_custom_obj          = list( custom_objects.values() )[0:6]\n",
    "labels_custom_obj          = list( custom_objects.keys() )[0:6]\n",
    "num_bars_custom_obj        = len( labels_custom_obj )\n",
    "positions_custom_obj       = np.arange( num_bars_custom_obj )\n",
    "colours_custom_obj         = random_colours( num_bars_custom_obj )\n",
    "\n",
    "values_custom_tech         = list( custom_tech.values() )[0:6]\n",
    "labels_custom_tech         = list( custom_tech.keys() )[0:6]\n",
    "num_bars_custom_tech       = len( labels_custom_tech )\n",
    "positions_custom_tech      = np.arange( num_bars_custom_tech )\n",
    "colours_custom_tech        = random_colours( num_bars_custom_tech )"
   ]
  },
  {
   "cell_type": "code",
   "execution_count": 18,
   "metadata": {},
   "outputs": [
    {
     "data": {
      "image/png": "[encoded data removed]",
      "text/plain": [
       "<Figure size 1440x720 with 6 Axes>"
      ]
     },
     "metadata": {
      "needs_background": "light"
     },
     "output_type": "display_data"
    }
   ],
   "source": [
    "# Plot results side by side\n",
    "#\n",
    "import matplotlib.pyplot as plt\n",
    "fig, axs = plt.subplots( 3, 2, figsize=( 20, 10 ) )\n",
    "axs[0,0].bar( positions_default_action,   values_default_action,   color=colours_default_action,   edgecolor=\"black\" )\n",
    "axs[1,0].bar( positions_default_keywords, values_default_keywords, color=colours_default_keywords, edgecolor=\"black\" )\n",
    "axs[0,1].bar( positions_custom_action,    values_custom_action,    color=colours_custom_action,    edgecolor=\"black\" )\n",
    "axs[1,1].bar( positions_custom_obj,       values_custom_obj,       color=colours_custom_obj,       edgecolor=\"black\" )\n",
    "axs[2,1].bar( positions_custom_tech,      values_custom_tech,      color=colours_custom_tech,      edgecolor=\"black\" )\n",
    "axs[0,0].set_title( 'Default: Actions',  fontsize=20 )\n",
    "axs[1,0].set_title( 'Default: Keywords', fontsize=20  )\n",
    "axs[0,1].set_title( 'Custom: Actions',   fontsize=20  )\n",
    "axs[1,1].set_title( 'Custom: Objects',   fontsize=20  )\n",
    "axs[2,1].set_title( 'Custom: Tech',      fontsize=20  )\n",
    "plt.sca(axs[0,0])\n",
    "plt.xticks( positions_default_action,   labels_default_action,   fontsize=15 )\n",
    "plt.sca(axs[1,0])\n",
    "plt.xticks( positions_default_keywords, labels_default_keywords, fontsize=15 )\n",
    "plt.sca(axs[0,1])\n",
    "plt.xticks( positions_custom_action,    labels_custom_action,    fontsize=15 )\n",
    "plt.sca(axs[1,1])\n",
    "plt.xticks( positions_custom_obj,       labels_custom_obj,       fontsize=15 )\n",
    "plt.sca(axs[2,1])\n",
    "plt.xticks( positions_custom_tech,      labels_custom_tech,      fontsize=15 )\n",
    "axs[2,0].axis('off')\n",
    "fig.tight_layout()\n",
    "plt.show()"
   ]
  },
  {
   "cell_type": "code",
   "execution_count": null,
   "metadata": {},
   "outputs": [],
   "source": []
  },
  {
   "cell_type": "code",
   "execution_count": null,
   "metadata": {},
   "outputs": [],
   "source": []
  },
  {
   "cell_type": "markdown",
   "metadata": {},
   "source": [
    "Copyright © 2019 IBM. This notebook and its source code are released under the terms of the MIT License."
   ]
  }
 ],
 "metadata": {
  "kernelspec": {
   "display_name": "Python 3.6",
   "language": "python",
   "name": "python3"
  },
  "language_info": {
   "codemirror_mode": {
    "name": "ipython",
    "version": 3
   },
   "file_extension": ".py",
   "mimetype": "text/x-python",
   "name": "python",
   "nbconvert_exporter": "python",
   "pygments_lexer": "ipython3",
   "version": "3.6.8"
  }
 },
 "nbformat": 4,
 "nbformat_minor": 1
}
